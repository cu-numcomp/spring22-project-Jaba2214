{
 "cells": [
  {
   "cell_type": "markdown",
   "id": "bda6cc93-2780-495e-8d09-84355e9c5874",
   "metadata": {},
   "source": [
    "# Geographical Interpolation Models - Jason Barnick #\n",
    "### GemPy is a General purpose software that creates 3d geographical models using interpolation.\n",
    "## Stakeholders\n",
    "### With this program, Geologist can recreate certain faultlines or other geographical features. This program would also be useful for creating hypthetical geographical features to predict future actions.\n",
    "## Metrics and Features\n",
    "### The prgram takes in an X,Y, and Z coordinate for each plane. The program takes those points and projects them onto a 2d and 3d map"
   ]
  },
  {
   "cell_type": "markdown",
   "id": "35b6a3e0-23b5-4c59-b8b3-87c6c5f82572",
   "metadata": {},
   "source": [
    "![Example1](sphx_glr_get_started_001.png \"Title\")"
   ]
  },
  {
   "cell_type": "markdown",
   "id": "7d474722-696e-4aaf-8211-4fc8c3ebd224",
   "metadata": {},
   "source": [
    "\n",
    "### The Z axis represtents deapth with the highest being zero.\n",
    "### The X and Y axis represent length in two directions\n",
    "### The program then requests two surfaces to be able to differentent between the levels. With the data points, the program Interpolates the best fit for a line that goes through all the points."
   ]
  },
  {
   "cell_type": "markdown",
   "id": "5be059d0-0816-407e-980d-2d5182da7c96",
   "metadata": {},
   "source": [
    "<div>\n",
    "<img src=\"sphx_glr_get_started_008.png\" width=\"500\"/>\n",
    "<img src=\"sphx_glr_get_started_009.png\" width=\"500\"/>\n",
    "</div>"
   ]
  },
  {
   "cell_type": "markdown",
   "id": "fc7917c5-0445-4a69-99d6-e84278ca0082",
   "metadata": {},
   "source": [
    "### With the interpolation complete, we can get a rough demension of a two layerd geographical map. More data points will increase the accuracy"
   ]
  },
  {
   "cell_type": "markdown",
   "id": "cfe9a6ff-beb7-4314-aef9-9f9e71481f80",
   "metadata": {},
   "source": [
    "<img src=\"image_2022-04-04_012226.png\" width=\"500\"/>"
   ]
  },
  {
   "cell_type": "markdown",
   "id": "e6aa8520-fea2-4f86-8ba8-09115a5f4871",
   "metadata": {},
   "source": [
    "### With more data points across the x and Z axis, the graph will show more layers that improve the accuracy of the model."
   ]
  },
  {
   "cell_type": "markdown",
   "id": "4ba22a0e-6e22-4929-8854-1bd815938a4a",
   "metadata": {},
   "source": [
    "<div>\n",
    "<img src=\"1.png\" width=\"500\"/>\n",
    "    <img src=\"2.png\" width=\"500\"/>\n",
    "</div>"
   ]
  },
  {
   "cell_type": "markdown",
   "id": "fe543f18-fae3-48f8-9940-8709291efd45",
   "metadata": {},
   "source": [
    "### Adding more more layers is simply a matter of adding more data points\n",
    "### While also handling interpolating data in one direction, it can also intropolate data on planes that go through the layers\n",
    "<dev>\n",
    "    <img src=\"sphx_glr_get_started_017.png\" width=\"500\"/>\n",
    "    <img src=\"sphx_glr_get_started_018.png\" width=\"500\"/>\n",
    "</dev>\n",
    "\n",
    "## Questions/Experiment Proposal\n",
    "### A question I have for this software is thath how the program handels multiple layers interacting with each other, which means how it handle Interpolating culsterd data.\n",
    "### A interesting project that would be interesting implementing this software would be creating a 3d topographical map that has its boundries interesent multiple times with other layers.\n"
   ]
  },
  {
   "cell_type": "code",
   "execution_count": null,
   "id": "1b1eb58f-d092-420d-b3cc-9be7dde65471",
   "metadata": {},
   "outputs": [],
   "source": []
  }
 ],
 "metadata": {
  "kernelspec": {
   "display_name": "Python 3 (ipykernel)",
   "language": "python",
   "name": "python3"
  },
  "language_info": {
   "codemirror_mode": {
    "name": "ipython",
    "version": 3
   },
   "file_extension": ".py",
   "mimetype": "text/x-python",
   "name": "python",
   "nbconvert_exporter": "python",
   "pygments_lexer": "ipython3",
   "version": "3.9.6"
  }
 },
 "nbformat": 4,
 "nbformat_minor": 5
}
